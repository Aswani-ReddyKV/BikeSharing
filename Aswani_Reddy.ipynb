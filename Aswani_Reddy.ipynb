{
 "cells": [
  {
   "cell_type": "markdown",
   "metadata": {},
   "source": [
    "# Bike Sharing - Assignment"
   ]
  },
  {
   "cell_type": "markdown",
   "metadata": {},
   "source": [
    "From the given data set, understand what factors are affecting the demand for shared bikes."
   ]
  },
  {
   "cell_type": "markdown",
   "metadata": {},
   "source": [
    "**Problem Statement**\n",
    "\n",
    "Identify which variables are significant in predicting demand for the shared bikes\n",
    "\n"
   ]
  },
  {
   "cell_type": "markdown",
   "metadata": {},
   "source": [
    "\n",
    "\n",
    "### Part 1 - To start with, import all the needed packages in the start of execution only. "
   ]
  },
  {
   "cell_type": "code",
   "execution_count": null,
   "metadata": {},
   "outputs": [],
   "source": [
    "#import the libraries\n",
    "import pandas as pd\n",
    "import numpy as np\n",
    "import warnings\n",
    "warnings.filterwarnings(\"ignore\")\n",
    "import seaborn as sns\n",
    "#import the plotting libraries\n",
    "import matplotlib.pyplot as plt\n",
    "%matplotlib inline"
   ]
  },
  {
   "cell_type": "markdown",
   "metadata": {},
   "source": [
    "### Part 2 - Set few of the options needed for getting a better display on the output"
   ]
  },
  {
   "cell_type": "markdown",
   "metadata": {},
   "source": [
    "Using pandas do load the given CSV file which is size ~57 KB.\n",
    " "
   ]
  },
  {
   "cell_type": "code",
   "execution_count": null,
   "metadata": {},
   "outputs": [],
   "source": [
    "# Set few options for Dataframe which will be helpfull in viewing the output\n",
    "pd.set_option('display.max_column', None)\n",
    "pd.set_option('display.max_rows', None)\n",
    "pd.set_option('display.max_seq_items', None)\n",
    "pd.set_option('display.max_colwidth', 100)\n",
    "pd.set_option('expand_frame_repr', True)\n",
    "#Check the datatypes of all the columns of the dataframe\n",
    "bikesharing = pd.read_csv('day.csv')\n",
    "bikesharing.dtypes"
   ]
  },
  {
   "cell_type": "code",
   "execution_count": null,
   "metadata": {},
   "outputs": [],
   "source": [
    "#Get the total number of rows and columns  present\n",
    "bikesharing.shape"
   ]
  },
  {
   "cell_type": "code",
   "execution_count": null,
   "metadata": {},
   "outputs": [],
   "source": [
    "#Get the view of the data set by printing first 5 rows\n",
    "bikesharing.head()"
   ]
  },
  {
   "cell_type": "code",
   "execution_count": null,
   "metadata": {},
   "outputs": [],
   "source": [
    "#Do check for the columns having values as null. Based on that we might need to handle data cleaning up activity\n",
    "bikesharing.isnull().sum()"
   ]
  },
  {
   "cell_type": "markdown",
   "metadata": {},
   "source": [
    "Findings ::\n",
    "\n",
    "Current data set have 7030 rows and 16 columns.\n",
    "\n",
    "From the above output we can see there are no columns have null values."
   ]
  },
  {
   "cell_type": "code",
   "execution_count": null,
   "metadata": {},
   "outputs": [],
   "source": [
    "#Do check for the presence of unique values present in the given data set\n",
    "bikesharing.nunique()"
   ]
  },
  {
   "cell_type": "markdown",
   "metadata": {},
   "source": [
    "As per the Data set dictionary, columns 'season', 'yr', 'mnth', 'holiday', 'weekday', 'workingday' and 'weathersit' are having representation values only."
   ]
  },
  {
   "cell_type": "markdown",
   "metadata": {},
   "source": [
    "### Part 3 - Dataset cleaning process"
   ]
  },
  {
   "cell_type": "code",
   "execution_count": null,
   "metadata": {},
   "outputs": [],
   "source": [
    "#From the above data we can see 'instant' column is more about record index (Same from data dictionary we can understand)\n",
    "#and also 'dteday' column is having date value. These are having all unique values which will not get much info for a model.\n",
    "bikesharing = bikesharing.drop(['instant','dteday'], axis=1)"
   ]
  },
  {
   "cell_type": "markdown",
   "metadata": {},
   "source": [
    "### Part 4 - EDA"
   ]
  },
  {
   "cell_type": "markdown",
   "metadata": {},
   "source": [
    "First identify categorical columns and later do Bivariate analysis with target column (Here 'cnt' is the target variable) "
   ]
  },
  {
   "cell_type": "code",
   "execution_count": null,
   "metadata": {},
   "outputs": [],
   "source": [
    "categorical_columns = ['season','yr','mnth','holiday','weekday','workingday','weathersit']\n",
    "categorical_xlabel = ['Season','Year','Month','Holiday','WeekDay','Working Day','Weather Type']"
   ]
  },
  {
   "cell_type": "code",
   "execution_count": null,
   "metadata": {},
   "outputs": [],
   "source": [
    "for i in range(len(categorical_columns)):\n",
    "    plt.figure(figsize=[9,7])\n",
    "    pltAxes = sns.boxplot(bikesharing,x=categorical_columns[i],y='cnt')\n",
    "    pltAxes.set_xlabel(categorical_xlabel[i])\n",
    "    pltAxes.set_ylabel('Total Count')\n",
    "    pltAxes.set_title( categorical_xlabel[i] + '  vs  Total Count')\n",
    "    plt.show()"
   ]
  },
  {
   "cell_type": "markdown",
   "metadata": {},
   "source": [
    "Bivariate analysis for numerical columns"
   ]
  },
  {
   "cell_type": "code",
   "execution_count": null,
   "metadata": {},
   "outputs": [],
   "source": [
    "numerical_coluns = ['temp', 'atemp', 'hum', 'windspeed','casual', 'registered','cnt']\n",
    "sns.pairplot(data=bikesharing, vars= numerical_coluns)\n",
    "plt.show()"
   ]
  },
  {
   "cell_type": "code",
   "execution_count": null,
   "metadata": {},
   "outputs": [],
   "source": [
    "plt.figure(figsize=(8,5))\n",
    "pltAxes = sns.heatmap(bikesharing[numerical_coluns].corr(method ='pearson'), annot=True, fmt=\".2f\", cmap=\"YlOrBr\")\n",
    "pltAxes.set_title('Heat map of numerical categories')\n",
    "pltAxes.set_xticklabels(numerical_coluns)\n",
    "pltAxes.set_yticklabels(numerical_coluns, rotation=0)\n",
    "plt.show()"
   ]
  },
  {
   "cell_type": "code",
   "execution_count": null,
   "metadata": {},
   "outputs": [],
   "source": []
  },
  {
   "cell_type": "code",
   "execution_count": null,
   "metadata": {},
   "outputs": [],
   "source": []
  },
  {
   "cell_type": "code",
   "execution_count": null,
   "metadata": {},
   "outputs": [],
   "source": []
  }
 ],
 "metadata": {
  "kernelspec": {
   "display_name": "Python 3",
   "language": "python",
   "name": "python3"
  },
  "language_info": {
   "codemirror_mode": {
    "name": "ipython",
    "version": 3
   },
   "file_extension": ".py",
   "mimetype": "text/x-python",
   "name": "python",
   "nbconvert_exporter": "python",
   "pygments_lexer": "ipython3",
   "version": "3.11.4"
  }
 },
 "nbformat": 4,
 "nbformat_minor": 2
}
